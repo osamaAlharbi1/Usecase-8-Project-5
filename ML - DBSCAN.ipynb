{
 "cells": [
  {
   "cell_type": "markdown",
   "metadata": {},
   "source": [
    "## Import Libraries"
   ]
  },
  {
   "cell_type": "code",
   "execution_count": 2,
   "metadata": {},
   "outputs": [],
   "source": [
    "# To ignore warnings\n",
    "import warnings\n",
    "warnings.filterwarnings(\"ignore\")\n",
    "import pandas as pd\n",
    "import numpy as np\n",
    "import matplotlib.pyplot as plt\n",
    "import seaborn as sns\n",
    "\n",
    "from sklearn.model_selection import train_test_split, cross_val_score\n",
    "from sklearn.preprocessing import StandardScaler\n",
    "from sklearn.neighbors import NearestNeighbors\n",
    "from sklearn.cluster import DBSCAN\n",
    "from sklearn.metrics import silhouette_score\n",
    "from sklearn.preprocessing import LabelEncoder\n",
    "\n",
    "from sklearn import metrics\n",
    "\n",
    "%matplotlib inline"
   ]
  },
  {
   "cell_type": "markdown",
   "metadata": {},
   "source": [
    "## Load the Data"
   ]
  },
  {
   "cell_type": "code",
   "execution_count": 3,
   "metadata": {},
   "outputs": [],
   "source": [
    "df = pd.read_csv(\"test.csv\")"
   ]
  },
  {
   "cell_type": "code",
   "execution_count": 4,
   "metadata": {},
   "outputs": [
    {
     "data": {
      "text/plain": [
       "(497, 33)"
      ]
     },
     "execution_count": 4,
     "metadata": {},
     "output_type": "execute_result"
    }
   ],
   "source": [
    "df.shape"
   ]
  },
  {
   "cell_type": "code",
   "execution_count": 5,
   "metadata": {
    "scrolled": true
   },
   "outputs": [
    {
     "data": {
      "text/html": [
       "<div>\n",
       "<style scoped>\n",
       "    .dataframe tbody tr th:only-of-type {\n",
       "        vertical-align: middle;\n",
       "    }\n",
       "\n",
       "    .dataframe tbody tr th {\n",
       "        vertical-align: top;\n",
       "    }\n",
       "\n",
       "    .dataframe thead th {\n",
       "        text-align: right;\n",
       "    }\n",
       "</style>\n",
       "<table border=\"1\" class=\"dataframe\">\n",
       "  <thead>\n",
       "    <tr style=\"text-align: right;\">\n",
       "      <th></th>\n",
       "      <th>Unnamed: 0</th>\n",
       "      <th>Parking</th>\n",
       "      <th>Swimming Pool</th>\n",
       "      <th>Restaurant</th>\n",
       "      <th>Room Service</th>\n",
       "      <th>Fitness Centre</th>\n",
       "      <th>Spa &amp; Wellness Centre</th>\n",
       "      <th>Business Centre</th>\n",
       "      <th>Facilities for Disabled</th>\n",
       "      <th>Airport Shuttle</th>\n",
       "      <th>...</th>\n",
       "      <th>Highspeed Internet</th>\n",
       "      <th>Airconditioning</th>\n",
       "      <th>Safe/Vault</th>\n",
       "      <th>Tennis Court</th>\n",
       "      <th>Indoor Pool</th>\n",
       "      <th>Pet-friendly</th>\n",
       "      <th>Casino</th>\n",
       "      <th>Golfcourse</th>\n",
       "      <th>Beach Access</th>\n",
       "      <th>Ski-In Ski-Out</th>\n",
       "    </tr>\n",
       "  </thead>\n",
       "  <tbody>\n",
       "    <tr>\n",
       "      <th>0</th>\n",
       "      <td>0</td>\n",
       "      <td>1.0</td>\n",
       "      <td>1.0</td>\n",
       "      <td>1.0</td>\n",
       "      <td>1.0</td>\n",
       "      <td>1.0</td>\n",
       "      <td>1.0</td>\n",
       "      <td>1.0</td>\n",
       "      <td>1.0</td>\n",
       "      <td>1.0</td>\n",
       "      <td>...</td>\n",
       "      <td>0.0</td>\n",
       "      <td>0.0</td>\n",
       "      <td>0.0</td>\n",
       "      <td>0.0</td>\n",
       "      <td>0.0</td>\n",
       "      <td>0.0</td>\n",
       "      <td>0.0</td>\n",
       "      <td>0.0</td>\n",
       "      <td>0.0</td>\n",
       "      <td>0.0</td>\n",
       "    </tr>\n",
       "    <tr>\n",
       "      <th>1</th>\n",
       "      <td>1</td>\n",
       "      <td>0.0</td>\n",
       "      <td>0.0</td>\n",
       "      <td>1.0</td>\n",
       "      <td>1.0</td>\n",
       "      <td>1.0</td>\n",
       "      <td>0.0</td>\n",
       "      <td>0.0</td>\n",
       "      <td>0.0</td>\n",
       "      <td>0.0</td>\n",
       "      <td>...</td>\n",
       "      <td>1.0</td>\n",
       "      <td>1.0</td>\n",
       "      <td>0.0</td>\n",
       "      <td>0.0</td>\n",
       "      <td>0.0</td>\n",
       "      <td>0.0</td>\n",
       "      <td>0.0</td>\n",
       "      <td>0.0</td>\n",
       "      <td>0.0</td>\n",
       "      <td>0.0</td>\n",
       "    </tr>\n",
       "  </tbody>\n",
       "</table>\n",
       "<p>2 rows × 33 columns</p>\n",
       "</div>"
      ],
      "text/plain": [
       "   Unnamed: 0  Parking  Swimming Pool  Restaurant  Room Service  \\\n",
       "0           0      1.0            1.0         1.0           1.0   \n",
       "1           1      0.0            0.0         1.0           1.0   \n",
       "\n",
       "   Fitness Centre  Spa & Wellness Centre  Business Centre  \\\n",
       "0             1.0                    1.0              1.0   \n",
       "1             1.0                    0.0              0.0   \n",
       "\n",
       "   Facilities for Disabled  Airport Shuttle  ...  Highspeed Internet  \\\n",
       "0                      1.0              1.0  ...                 0.0   \n",
       "1                      0.0              0.0  ...                 1.0   \n",
       "\n",
       "   Airconditioning  Safe/Vault  Tennis Court  Indoor Pool  Pet-friendly  \\\n",
       "0              0.0         0.0           0.0          0.0           0.0   \n",
       "1              1.0         0.0           0.0          0.0           0.0   \n",
       "\n",
       "   Casino  Golfcourse  Beach Access  Ski-In Ski-Out  \n",
       "0     0.0         0.0           0.0             0.0  \n",
       "1     0.0         0.0           0.0             0.0  \n",
       "\n",
       "[2 rows x 33 columns]"
      ]
     },
     "execution_count": 5,
     "metadata": {},
     "output_type": "execute_result"
    }
   ],
   "source": [
    "df.head(2)"
   ]
  },
  {
   "cell_type": "code",
   "execution_count": 6,
   "metadata": {},
   "outputs": [],
   "source": [
    "df.drop(columns='Unnamed: 0' , inplace=True)\n",
    "df.drop(columns='name' , inplace=True)"
   ]
  },
  {
   "cell_type": "markdown",
   "metadata": {},
   "source": [
    "## Preprocess the Data"
   ]
  },
  {
   "cell_type": "markdown",
   "metadata": {},
   "source": [
    "#### 1. Simple EDA + Data Quality checking"
   ]
  },
  {
   "cell_type": "code",
   "execution_count": 7,
   "metadata": {},
   "outputs": [],
   "source": [
    "numeric_col = [col for col in df.columns if df[col].dtype != 'object']\n",
    "cate_col = [col for col in df.columns if df[col].dtype == 'object']        "
   ]
  },
  {
   "cell_type": "markdown",
   "metadata": {},
   "source": [
    "#### 2. Feature engineering"
   ]
  },
  {
   "cell_type": "markdown",
   "metadata": {},
   "source": [
    "1. Feature scaling\n",
    "2. Aggregation\n",
    "3. One hot coding"
   ]
  },
  {
   "cell_type": "markdown",
   "metadata": {},
   "source": [
    "#### 3. Feature selection"
   ]
  },
  {
   "cell_type": "code",
   "execution_count": 8,
   "metadata": {},
   "outputs": [
    {
     "data": {
      "text/plain": [
       "0      9.0\n",
       "1      8.1\n",
       "2      9.0\n",
       "3      0.0\n",
       "4      8.0\n",
       "      ... \n",
       "492    8.4\n",
       "493    7.5\n",
       "494    0.0\n",
       "495    8.0\n",
       "496    8.8\n",
       "Name: rate, Length: 497, dtype: float64"
      ]
     },
     "execution_count": 8,
     "metadata": {},
     "output_type": "execute_result"
    }
   ],
   "source": [
    "df['rate']"
   ]
  },
  {
   "cell_type": "code",
   "execution_count": 9,
   "metadata": {},
   "outputs": [
    {
     "name": "stdout",
     "output_type": "stream",
     "text": [
      "rate\n",
      "Good_Rate     198\n",
      "Low_Rate      168\n",
      "Hight_Rate    131\n",
      "Name: count, dtype: int64\n"
     ]
    }
   ],
   "source": [
    "# Calculate the 35th and 75th percentiles of the price\n",
    "p35 = df['rate'].quantile(0.35)\n",
    "p75 = df['rate'].quantile(0.75)\n",
    "\n",
    "# Function to categorize prices\n",
    "def categorize_price(price):\n",
    "    if price < p35:\n",
    "        return 'Low_Rate'\n",
    "    elif price < p75:\n",
    "        return 'Good_Rate'\n",
    "    else:\n",
    "        return 'Hight_Rate'\n",
    "\n",
    "# Apply the function to create a new column\n",
    "df['rate'] = df['rate'].apply(categorize_price)\n",
    "\n",
    "# df.drop('Rate', axis=1, inplace=True)\n",
    "\n",
    "# Verify the distribution of the new categories\n",
    "print(df['rate'].value_counts())"
   ]
  },
  {
   "cell_type": "code",
   "execution_count": 10,
   "metadata": {},
   "outputs": [
    {
     "data": {
      "text/html": [
       "<div>\n",
       "<style scoped>\n",
       "    .dataframe tbody tr th:only-of-type {\n",
       "        vertical-align: middle;\n",
       "    }\n",
       "\n",
       "    .dataframe tbody tr th {\n",
       "        vertical-align: top;\n",
       "    }\n",
       "\n",
       "    .dataframe thead th {\n",
       "        text-align: right;\n",
       "    }\n",
       "</style>\n",
       "<table border=\"1\" class=\"dataframe\">\n",
       "  <thead>\n",
       "    <tr style=\"text-align: right;\">\n",
       "      <th></th>\n",
       "      <th>Parking</th>\n",
       "      <th>Swimming Pool</th>\n",
       "      <th>Restaurant</th>\n",
       "      <th>Room Service</th>\n",
       "      <th>Fitness Centre</th>\n",
       "      <th>Spa &amp; Wellness Centre</th>\n",
       "      <th>Business Centre</th>\n",
       "      <th>Facilities for Disabled</th>\n",
       "      <th>Airport Shuttle</th>\n",
       "      <th>Non-smoking Rooms</th>\n",
       "      <th>...</th>\n",
       "      <th>Highspeed Internet</th>\n",
       "      <th>Airconditioning</th>\n",
       "      <th>Safe/Vault</th>\n",
       "      <th>Tennis Court</th>\n",
       "      <th>Indoor Pool</th>\n",
       "      <th>Pet-friendly</th>\n",
       "      <th>Casino</th>\n",
       "      <th>Golfcourse</th>\n",
       "      <th>Beach Access</th>\n",
       "      <th>Ski-In Ski-Out</th>\n",
       "    </tr>\n",
       "  </thead>\n",
       "  <tbody>\n",
       "    <tr>\n",
       "      <th>0</th>\n",
       "      <td>1.0</td>\n",
       "      <td>1.0</td>\n",
       "      <td>1.0</td>\n",
       "      <td>1.0</td>\n",
       "      <td>1.0</td>\n",
       "      <td>1.0</td>\n",
       "      <td>1.0</td>\n",
       "      <td>1.0</td>\n",
       "      <td>1.0</td>\n",
       "      <td>1.0</td>\n",
       "      <td>...</td>\n",
       "      <td>0.0</td>\n",
       "      <td>0.0</td>\n",
       "      <td>0.0</td>\n",
       "      <td>0.0</td>\n",
       "      <td>0.0</td>\n",
       "      <td>0.0</td>\n",
       "      <td>0.0</td>\n",
       "      <td>0.0</td>\n",
       "      <td>0.0</td>\n",
       "      <td>0.0</td>\n",
       "    </tr>\n",
       "    <tr>\n",
       "      <th>1</th>\n",
       "      <td>0.0</td>\n",
       "      <td>0.0</td>\n",
       "      <td>1.0</td>\n",
       "      <td>1.0</td>\n",
       "      <td>1.0</td>\n",
       "      <td>0.0</td>\n",
       "      <td>0.0</td>\n",
       "      <td>0.0</td>\n",
       "      <td>0.0</td>\n",
       "      <td>0.0</td>\n",
       "      <td>...</td>\n",
       "      <td>1.0</td>\n",
       "      <td>1.0</td>\n",
       "      <td>0.0</td>\n",
       "      <td>0.0</td>\n",
       "      <td>0.0</td>\n",
       "      <td>0.0</td>\n",
       "      <td>0.0</td>\n",
       "      <td>0.0</td>\n",
       "      <td>0.0</td>\n",
       "      <td>0.0</td>\n",
       "    </tr>\n",
       "  </tbody>\n",
       "</table>\n",
       "<p>2 rows × 31 columns</p>\n",
       "</div>"
      ],
      "text/plain": [
       "   Parking  Swimming Pool  Restaurant  Room Service  Fitness Centre  \\\n",
       "0      1.0            1.0         1.0           1.0             1.0   \n",
       "1      0.0            0.0         1.0           1.0             1.0   \n",
       "\n",
       "   Spa & Wellness Centre  Business Centre  Facilities for Disabled  \\\n",
       "0                    1.0              1.0                      1.0   \n",
       "1                    0.0              0.0                      0.0   \n",
       "\n",
       "   Airport Shuttle  Non-smoking Rooms  ...  Highspeed Internet  \\\n",
       "0              1.0                1.0  ...                 0.0   \n",
       "1              0.0                0.0  ...                 1.0   \n",
       "\n",
       "   Airconditioning  Safe/Vault  Tennis Court  Indoor Pool  Pet-friendly  \\\n",
       "0              0.0         0.0           0.0          0.0           0.0   \n",
       "1              1.0         0.0           0.0          0.0           0.0   \n",
       "\n",
       "   Casino  Golfcourse  Beach Access Ski-In Ski-Out  \n",
       "0     0.0         0.0           0.0            0.0  \n",
       "1     0.0         0.0           0.0            0.0  \n",
       "\n",
       "[2 rows x 31 columns]"
      ]
     },
     "execution_count": 10,
     "metadata": {},
     "output_type": "execute_result"
    }
   ],
   "source": [
    "df.head(2)"
   ]
  },
  {
   "cell_type": "code",
   "execution_count": 11,
   "metadata": {},
   "outputs": [],
   "source": [
    "# df = df[['rate' , 'review']]"
   ]
  },
  {
   "cell_type": "code",
   "execution_count": 12,
   "metadata": {},
   "outputs": [],
   "source": [
    "encoder = LabelEncoder()\n",
    "df['rate'] = encoder.fit_transform(df['rate'])  "
   ]
  },
  {
   "cell_type": "markdown",
   "metadata": {},
   "source": [
    "#### 4. Prepare train and test data"
   ]
  },
  {
   "cell_type": "code",
   "execution_count": 13,
   "metadata": {},
   "outputs": [],
   "source": [
    "# Prepare data\n",
    "X = df\n",
    "\n",
    "\n",
    "# sacle the data\n",
    "scaler = StandardScaler()\n",
    "X_scaled = scaler.fit_transform(X)"
   ]
  },
  {
   "cell_type": "code",
   "execution_count": 14,
   "metadata": {},
   "outputs": [
    {
     "data": {
      "text/plain": [
       "(497, 31)"
      ]
     },
     "execution_count": 14,
     "metadata": {},
     "output_type": "execute_result"
    }
   ],
   "source": [
    "X.shape"
   ]
  },
  {
   "cell_type": "markdown",
   "metadata": {},
   "source": [
    "## Buliding the Model"
   ]
  },
  {
   "cell_type": "code",
   "execution_count": 15,
   "metadata": {},
   "outputs": [],
   "source": [
    "# 2. Use NearestNeighbors to find the optimal eps\n",
    "min_samples = 2"
   ]
  },
  {
   "cell_type": "code",
   "execution_count": 16,
   "metadata": {},
   "outputs": [],
   "source": [
    "nn = NearestNeighbors(n_neighbors=min_samples)\n",
    "nn.fit(X_scaled)\n",
    "distances, indices = nn.kneighbors(X_scaled)"
   ]
  },
  {
   "cell_type": "code",
   "execution_count": 17,
   "metadata": {},
   "outputs": [],
   "source": [
    "#indices"
   ]
  },
  {
   "cell_type": "code",
   "execution_count": 18,
   "metadata": {},
   "outputs": [
    {
     "data": {
      "image/png": "[encoded data removed]",
      "text/plain": [
       "<Figure size 800x600 with 1 Axes>"
      ]
     },
     "metadata": {},
     "output_type": "display_data"
    }
   ],
   "source": [
    "# The distance to the furthest neighbor (min_samples-th nearest) for each point\n",
    "k_dist = distances[:, min_samples-1]\n",
    "\n",
    "# Sort distances\n",
    "k_dist_sorted = np.sort(k_dist)\n",
    "\n",
    "# 3. Plotting the k-distance graph\n",
    "plt.figure(figsize=(8, 6))\n",
    "plt.plot(k_dist_sorted)\n",
    "plt.title('K-Distance Graph')\n",
    "plt.xlabel('Points sorted by distance')\n",
    "plt.ylabel('k-distance (eps value)')\n",
    "plt.grid(True)\n",
    "plt.show()"
   ]
  },
  {
   "cell_type": "code",
   "execution_count": 19,
   "metadata": {},
   "outputs": [],
   "source": [
    "# 4. Apply DBSCAN with chosen eps and min_samples\n",
    "# Typically, you choose eps at the \"elbow\" point in this plot, where the slope changes significantly\n",
    "chosen_eps = 7 # This is an example; choose this value based on the plot\n",
    "dbscan = DBSCAN(eps=chosen_eps, min_samples=min_samples)"
   ]
  },
  {
   "cell_type": "markdown",
   "metadata": {},
   "source": [
    "## Train the Model"
   ]
  },
  {
   "cell_type": "code",
   "execution_count": 20,
   "metadata": {},
   "outputs": [],
   "source": [
    "# Fit the model on the training data\n",
    "\n",
    "clusters = dbscan.fit_predict(X_scaled)"
   ]
  },
  {
   "cell_type": "code",
   "execution_count": 21,
   "metadata": {},
   "outputs": [
    {
     "data": {
      "text/plain": [
       " 1    471\n",
       "-1      7\n",
       " 0      3\n",
       " 3      3\n",
       " 5      3\n",
       " 2      2\n",
       " 4      2\n",
       " 6      2\n",
       " 7      2\n",
       " 8      2\n",
       "Name: count, dtype: int64"
      ]
     },
     "execution_count": 21,
     "metadata": {},
     "output_type": "execute_result"
    }
   ],
   "source": [
    "pd.Series(clusters).value_counts()"
   ]
  },
  {
   "cell_type": "markdown",
   "metadata": {},
   "source": [
    "## Evaluating the Model "
   ]
  },
  {
   "cell_type": "code",
   "execution_count": 22,
   "metadata": {},
   "outputs": [
    {
     "data": {
      "text/plain": [
       "-0.5834030215452416"
      ]
     },
     "execution_count": 22,
     "metadata": {},
     "output_type": "execute_result"
    }
   ],
   "source": [
    "silhouette_avg = silhouette_score(X, clusters)\n",
    "silhouette_avg"
   ]
  },
  {
   "cell_type": "code",
   "execution_count": 23,
   "metadata": {},
   "outputs": [
    {
     "data": {
      "image/png": "[encoded data removed]",
      "text/plain": [
       "<Figure size 800x600 with 2 Axes>"
      ]
     },
     "metadata": {},
     "output_type": "display_data"
    }
   ],
   "source": [
    "# 5. Plot the clustering result\n",
    "plt.figure(figsize=(8, 6))\n",
    "plt.scatter(X_scaled[:, 0], X_scaled[:, 1], c=clusters, cmap='viridis', s=50, edgecolor='k')\n",
    "plt.title(f'DBSCAN Clustering with eps={chosen_eps}')\n",
    "plt.xlabel('Feature 1')\n",
    "plt.ylabel('Feature 2')\n",
    "plt.colorbar(label='Cluster Label')\n",
    "plt.show()"
   ]
  },
  {
   "cell_type": "code",
   "execution_count": 24,
   "metadata": {},
   "outputs": [],
   "source": [
    "X['dbscan'] = clusters"
   ]
  },
  {
   "cell_type": "code",
   "execution_count": 25,
   "metadata": {},
   "outputs": [
    {
     "data": {
      "text/plain": [
       "dbscan\n",
       " 1    471\n",
       "-1      7\n",
       " 0      3\n",
       " 3      3\n",
       " 5      3\n",
       " 2      2\n",
       " 4      2\n",
       " 6      2\n",
       " 7      2\n",
       " 8      2\n",
       "Name: count, dtype: int64"
      ]
     },
     "execution_count": 25,
     "metadata": {},
     "output_type": "execute_result"
    }
   ],
   "source": [
    "X['dbscan'].value_counts()"
   ]
  },
  {
   "cell_type": "code",
   "execution_count": 26,
   "metadata": {},
   "outputs": [
    {
     "data": {
      "text/html": [
       "<div>\n",
       "<style scoped>\n",
       "    .dataframe tbody tr th:only-of-type {\n",
       "        vertical-align: middle;\n",
       "    }\n",
       "\n",
       "    .dataframe tbody tr th {\n",
       "        vertical-align: top;\n",
       "    }\n",
       "\n",
       "    .dataframe thead th {\n",
       "        text-align: right;\n",
       "    }\n",
       "</style>\n",
       "<table border=\"1\" class=\"dataframe\">\n",
       "  <thead>\n",
       "    <tr style=\"text-align: right;\">\n",
       "      <th></th>\n",
       "      <th>Parking</th>\n",
       "      <th>Swimming Pool</th>\n",
       "      <th>Restaurant</th>\n",
       "      <th>Room Service</th>\n",
       "      <th>Fitness Centre</th>\n",
       "      <th>Spa &amp; Wellness Centre</th>\n",
       "      <th>Business Centre</th>\n",
       "      <th>Facilities for Disabled</th>\n",
       "      <th>Airport Shuttle</th>\n",
       "      <th>Non-smoking Rooms</th>\n",
       "      <th>...</th>\n",
       "      <th>Airconditioning</th>\n",
       "      <th>Safe/Vault</th>\n",
       "      <th>Tennis Court</th>\n",
       "      <th>Indoor Pool</th>\n",
       "      <th>Pet-friendly</th>\n",
       "      <th>Casino</th>\n",
       "      <th>Golfcourse</th>\n",
       "      <th>Beach Access</th>\n",
       "      <th>Ski-In Ski-Out</th>\n",
       "      <th>dbscan</th>\n",
       "    </tr>\n",
       "  </thead>\n",
       "  <tbody>\n",
       "    <tr>\n",
       "      <th>0</th>\n",
       "      <td>1.0</td>\n",
       "      <td>1.0</td>\n",
       "      <td>1.0</td>\n",
       "      <td>1.0</td>\n",
       "      <td>1.0</td>\n",
       "      <td>1.0</td>\n",
       "      <td>1.0</td>\n",
       "      <td>1.0</td>\n",
       "      <td>1.0</td>\n",
       "      <td>1.0</td>\n",
       "      <td>...</td>\n",
       "      <td>0.0</td>\n",
       "      <td>0.0</td>\n",
       "      <td>0.0</td>\n",
       "      <td>0.0</td>\n",
       "      <td>0.0</td>\n",
       "      <td>0.0</td>\n",
       "      <td>0.0</td>\n",
       "      <td>0.0</td>\n",
       "      <td>0.0</td>\n",
       "      <td>0</td>\n",
       "    </tr>\n",
       "    <tr>\n",
       "      <th>1</th>\n",
       "      <td>0.0</td>\n",
       "      <td>0.0</td>\n",
       "      <td>1.0</td>\n",
       "      <td>1.0</td>\n",
       "      <td>1.0</td>\n",
       "      <td>0.0</td>\n",
       "      <td>0.0</td>\n",
       "      <td>0.0</td>\n",
       "      <td>0.0</td>\n",
       "      <td>0.0</td>\n",
       "      <td>...</td>\n",
       "      <td>1.0</td>\n",
       "      <td>0.0</td>\n",
       "      <td>0.0</td>\n",
       "      <td>0.0</td>\n",
       "      <td>0.0</td>\n",
       "      <td>0.0</td>\n",
       "      <td>0.0</td>\n",
       "      <td>0.0</td>\n",
       "      <td>0.0</td>\n",
       "      <td>1</td>\n",
       "    </tr>\n",
       "    <tr>\n",
       "      <th>2</th>\n",
       "      <td>1.0</td>\n",
       "      <td>1.0</td>\n",
       "      <td>1.0</td>\n",
       "      <td>1.0</td>\n",
       "      <td>1.0</td>\n",
       "      <td>0.0</td>\n",
       "      <td>0.0</td>\n",
       "      <td>1.0</td>\n",
       "      <td>1.0</td>\n",
       "      <td>1.0</td>\n",
       "      <td>...</td>\n",
       "      <td>1.0</td>\n",
       "      <td>1.0</td>\n",
       "      <td>0.0</td>\n",
       "      <td>0.0</td>\n",
       "      <td>0.0</td>\n",
       "      <td>0.0</td>\n",
       "      <td>0.0</td>\n",
       "      <td>0.0</td>\n",
       "      <td>0.0</td>\n",
       "      <td>1</td>\n",
       "    </tr>\n",
       "    <tr>\n",
       "      <th>3</th>\n",
       "      <td>1.0</td>\n",
       "      <td>0.0</td>\n",
       "      <td>0.0</td>\n",
       "      <td>0.0</td>\n",
       "      <td>0.0</td>\n",
       "      <td>0.0</td>\n",
       "      <td>1.0</td>\n",
       "      <td>1.0</td>\n",
       "      <td>0.0</td>\n",
       "      <td>1.0</td>\n",
       "      <td>...</td>\n",
       "      <td>1.0</td>\n",
       "      <td>1.0</td>\n",
       "      <td>0.0</td>\n",
       "      <td>0.0</td>\n",
       "      <td>0.0</td>\n",
       "      <td>0.0</td>\n",
       "      <td>0.0</td>\n",
       "      <td>0.0</td>\n",
       "      <td>0.0</td>\n",
       "      <td>1</td>\n",
       "    </tr>\n",
       "    <tr>\n",
       "      <th>4</th>\n",
       "      <td>0.0</td>\n",
       "      <td>1.0</td>\n",
       "      <td>1.0</td>\n",
       "      <td>0.0</td>\n",
       "      <td>1.0</td>\n",
       "      <td>1.0</td>\n",
       "      <td>1.0</td>\n",
       "      <td>0.0</td>\n",
       "      <td>0.0</td>\n",
       "      <td>0.0</td>\n",
       "      <td>...</td>\n",
       "      <td>1.0</td>\n",
       "      <td>1.0</td>\n",
       "      <td>0.0</td>\n",
       "      <td>0.0</td>\n",
       "      <td>0.0</td>\n",
       "      <td>0.0</td>\n",
       "      <td>0.0</td>\n",
       "      <td>0.0</td>\n",
       "      <td>0.0</td>\n",
       "      <td>1</td>\n",
       "    </tr>\n",
       "  </tbody>\n",
       "</table>\n",
       "<p>5 rows × 32 columns</p>\n",
       "</div>"
      ],
      "text/plain": [
       "   Parking  Swimming Pool  Restaurant  Room Service  Fitness Centre  \\\n",
       "0      1.0            1.0         1.0           1.0             1.0   \n",
       "1      0.0            0.0         1.0           1.0             1.0   \n",
       "2      1.0            1.0         1.0           1.0             1.0   \n",
       "3      1.0            0.0         0.0           0.0             0.0   \n",
       "4      0.0            1.0         1.0           0.0             1.0   \n",
       "\n",
       "   Spa & Wellness Centre  Business Centre  Facilities for Disabled  \\\n",
       "0                    1.0              1.0                      1.0   \n",
       "1                    0.0              0.0                      0.0   \n",
       "2                    0.0              0.0                      1.0   \n",
       "3                    0.0              1.0                      1.0   \n",
       "4                    1.0              1.0                      0.0   \n",
       "\n",
       "   Airport Shuttle  Non-smoking Rooms  ...  Airconditioning  Safe/Vault  \\\n",
       "0              1.0                1.0  ...              0.0         0.0   \n",
       "1              0.0                0.0  ...              1.0         0.0   \n",
       "2              1.0                1.0  ...              1.0         1.0   \n",
       "3              0.0                1.0  ...              1.0         1.0   \n",
       "4              0.0                0.0  ...              1.0         1.0   \n",
       "\n",
       "   Tennis Court  Indoor Pool  Pet-friendly  Casino  Golfcourse  Beach Access  \\\n",
       "0           0.0          0.0           0.0     0.0         0.0           0.0   \n",
       "1           0.0          0.0           0.0     0.0         0.0           0.0   \n",
       "2           0.0          0.0           0.0     0.0         0.0           0.0   \n",
       "3           0.0          0.0           0.0     0.0         0.0           0.0   \n",
       "4           0.0          0.0           0.0     0.0         0.0           0.0   \n",
       "\n",
       "   Ski-In Ski-Out  dbscan  \n",
       "0             0.0       0  \n",
       "1             0.0       1  \n",
       "2             0.0       1  \n",
       "3             0.0       1  \n",
       "4             0.0       1  \n",
       "\n",
       "[5 rows x 32 columns]"
      ]
     },
     "execution_count": 26,
     "metadata": {},
     "output_type": "execute_result"
    }
   ],
   "source": [
    "X.head()"
   ]
  },
  {
   "cell_type": "code",
   "execution_count": 27,
   "metadata": {},
   "outputs": [
    {
     "data": {
      "text/plain": [
       "<Axes: xlabel='rate', ylabel='review'>"
      ]
     },
     "execution_count": 27,
     "metadata": {},
     "output_type": "execute_result"
    },
    {
     "data": {
      "image/png": "[encoded data removed]",
      "text/plain": [
       "<Figure size 640x480 with 1 Axes>"
      ]
     },
     "metadata": {},
     "output_type": "display_data"
    }
   ],
   "source": [
    "sns.scatterplot(data = X , x = 'rate', y = 'review', hue = 'dbscan')"
   ]
  },
  {
   "cell_type": "code",
   "execution_count": 28,
   "metadata": {},
   "outputs": [
    {
     "data": {
      "text/plain": [
       "<Axes: xlabel='rate', ylabel='review'>"
      ]
     },
     "execution_count": 28,
     "metadata": {},
     "output_type": "execute_result"
    },
    {
     "data": {
      "image/png": "[encoded data removed]",
      "text/plain": [
       "<Figure size 640x480 with 1 Axes>"
      ]
     },
     "metadata": {},
     "output_type": "display_data"
    }
   ],
   "source": [
    "sns.scatterplot(data = X , x = 'rate', y = 'review', hue = 'dbscan')"
   ]
  },
  {
   "cell_type": "code",
   "execution_count": null,
   "metadata": {},
   "outputs": [],
   "source": []
  }
 ],
 "metadata": {
  "kernelspec": {
   "display_name": "Python 3",
   "language": "python",
   "name": "python3"
  },
  "language_info": {
   "codemirror_mode": {
    "name": "ipython",
    "version": 3
   },
   "file_extension": ".py",
   "mimetype": "text/x-python",
   "name": "python",
   "nbconvert_exporter": "python",
   "pygments_lexer": "ipython3",
   "version": "3.11.9"
  }
 },
 "nbformat": 4,
 "nbformat_minor": 4
}
