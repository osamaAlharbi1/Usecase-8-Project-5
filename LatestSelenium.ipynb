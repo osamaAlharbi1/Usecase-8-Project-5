{
 "cells": [
  {
   "cell_type": "code",
   "execution_count": null,
   "metadata": {},
   "outputs": [],
   "source": [
    "import requests\n",
    "from bs4 import BeautifulSoup\n",
    "from selenium import webdriver  \n",
    "import pandas as pd\n",
    "from selenium import webdriver\n",
    "from selenium.webdriver.common.by import By\n",
    "import time"
   ]
  },
  {
   "cell_type": "code",
   "execution_count": null,
   "metadata": {},
   "outputs": [],
   "source": [
    "# Initialize the WebDriver (assuming Chrome here)\n",
    "driver = webdriver.Chrome()\n",
    "\n",
    "df = pd.DataFrame(columns=[\"Title\", \"Rating\", \"Services\", \"Price\"])\n",
    "\n",
    "# Loop through the dates\n",
    "for i in range(1, 15):\n",
    "    # Construct the URL for each date range\n",
    "    if i < 10:\n",
    "        driver.get(f\"https://sa.wego.com/en/hotels/searches/RUH/2024-10-0{i}/2024-10-0{i+1}?bow_only=true&wg_source=google&wg_medium=sem&wg_campaign=21038919720&wg_adgroup=158429811359&wg_content=691597205952&wg_term=p&wg_misc=%7Ckwd-330258448999%7C&gad_source=1&gclid=CjwKCAjwuMC2BhA7EiwAmJKRrGpP86HqkfS9czKNm6eNejZ3kLj9aoFMDlxM2M4nX4pT7AXqCijEAhoCKnAQAvD_BwE&sort=popularity&order=desc&guests=2\")\n",
    "    else:\n",
    "        driver.get(f\"https://sa.wego.com/en/hotels/searches/RUH/2024-10-{i}/2024-10-{i+1}?bow_only=true&wg_source=google&wg_medium=sem&wg_campaign=21038919720&wg_adgroup=158429811359&wg_content=691597205952&wg_term=p&wg_misc=%7Ckwd-330258448999%7C&gad_source=1&gclid=CjwKCAjwuMC2BhA7EiwAmJKRrGpP86HqkfS9czKNm6eNejZ3kLj9aoFMDlxM2M4nX4pT7AXqCijEAhoCKnAQAvD_BwE&sort=popularity&order=desc&guests=2\")\n",
    "    \n",
    "    try:\n",
    "        last_height = driver.execute_script(\"return document.body.scrollHeight\")\n",
    "\n",
    "        while True:\n",
    "            # Scroll down to load more content\n",
    "            driver.execute_script(\"window.scrollTo(0, document.body.scrollHeight);\")\n",
    "            time.sleep(7)  # Adjust this time for loading more elements\n",
    "\n",
    "            hotels = driver.find_elements(By.CSS_SELECTOR, \".VG3B649H53naZZkonblI\")\n",
    "\n",
    "            for hotel in hotels:\n",
    "                title_div = hotel.find_element(By.CSS_SELECTOR, \".l9Z0k1zsHgUHDR88M45Z\")\n",
    "                title = title_div.text if title_div else \"No title found\"\n",
    "                rating_div = hotel.find_element(By.CSS_SELECTOR, \".HHzUxIyNEijSoORM0yPa\")\n",
    "                rating = rating_div.text if rating_div else \"No rating found\"\n",
    "                services_div = hotel.find_element(By.CSS_SELECTOR, \".B5uLbhx_0bfSEdHcyw20\")\n",
    "                services = services_div.text if services_div else \"No services found\"\n",
    "                price_span = hotel.find_element(By.CSS_SELECTOR, \".TKPP1cUuVCbubxLKeIgS\")\n",
    "                price = price_span.text if price_span else \"No price found\"\n",
    "                df = df._append({\"Title\": title, \"Rating\": rating, \"Services\": services, \"Price\": price}, ignore_index=True)\n",
    "                print(f\"Title: {title}\")\n",
    "                print(f\"Rating: {rating}\")\n",
    "                print(f\"Services: {services}\")\n",
    "                print(f\"Price: {price}\")\n",
    "                print(\"-\" * 40)\n",
    "\n",
    "            # Check the current height of the page after scrolling\n",
    "            new_height = driver.execute_script(\"return document.body.scrollHeight\")\n",
    "            if new_height == last_height:\n",
    "                break  # If the height hasn't changed, we are at the bottom of the page\n",
    "\n",
    "            last_height = new_height\n",
    "\n",
    "    except Exception as e:\n",
    "        print(f\"An error occurred while trying to fetch hotel URLs for 2024-10-{i} to 2024-10-{i+1}: {e}\")\n",
    "\n",
    "# Close the driver after all iterations\n",
    "driver.quit()"
   ]
  },
  {
   "cell_type": "code",
   "execution_count": null,
   "metadata": {},
   "outputs": [],
   "source": [
    "df"
   ]
  }
 ],
 "metadata": {
  "kernelspec": {
   "display_name": "base",
   "language": "python",
   "name": "python3"
  },
  "language_info": {
   "codemirror_mode": {
    "name": "ipython",
    "version": 3
   },
   "file_extension": ".py",
   "mimetype": "text/x-python",
   "name": "python",
   "nbconvert_exporter": "python",
   "pygments_lexer": "ipython3",
   "version": "3.9.6"
  }
 },
 "nbformat": 4,
 "nbformat_minor": 2
}
